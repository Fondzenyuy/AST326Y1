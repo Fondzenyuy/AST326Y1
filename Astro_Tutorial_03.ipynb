{
  "nbformat": 4,
  "nbformat_minor": 0,
  "metadata": {
    "colab": {
      "name": "Astro Tutorial 03",
      "provenance": [],
      "authorship_tag": "ABX9TyNYLyofTYLAh56NL86KB4KD",
      "include_colab_link": true
    },
    "kernelspec": {
      "name": "python3",
      "display_name": "Python 3"
    },
    "language_info": {
      "name": "python"
    }
  },
  "cells": [
    {
      "cell_type": "markdown",
      "metadata": {
        "id": "view-in-github",
        "colab_type": "text"
      },
      "source": [
        "<a href=\"https://colab.research.google.com/github/Fondzenyuy/AST326Y1/blob/main/Astro_Tutorial_03.ipynb\" target=\"_parent\"><img src=\"https://colab.research.google.com/assets/colab-badge.svg\" alt=\"Open In Colab\"/></a>"
      ]
    },
    {
      "cell_type": "code",
      "metadata": {
        "colab": {
          "base_uri": "https://localhost:8080/",
          "height": 314
        },
        "id": "4tf84RBEHwUU",
        "outputId": "191e68ec-927d-4490-a7e5-e65bf85fb6da"
      },
      "source": [
        "import numpy as np\n",
        "import pylab as plt\n",
        "from scipy import stats\n",
        "\n",
        "N = 100 #number of photons\n",
        "rand_ls = [np.sum(np.random.beta(1.,2., N)) for i in range(100000)]\n",
        "\n",
        "#standardisation\n",
        "print(np.mean(rand_ls), np.var(rand_ls))\n",
        "rand_ls = (rand_ls - np.mean(rand_ls))/np.std(rand_ls)\n",
        "\n",
        "plt.hist(rand_ls, bins=41, range=(-4,4), density=True, label=\"Simulation\")\n",
        "\n",
        "x = np.linspace(-4, 4, 40)\n",
        "plt.plot(x, stats.norm.pdf(x, 0.0, 1.0), ls=\"--\", c=\"k\", label=\"Unit Gaussian\")\n",
        "plt.ylabel(\"Probablity Density\")\n",
        "plt.xlabel(\"Standardised Sum\")\n",
        "plt.legend() "
      ],
      "execution_count": 8,
      "outputs": [
        {
          "output_type": "stream",
          "name": "stdout",
          "text": [
            "33.337663679248884 5.559945495027787\n"
          ]
        },
        {
          "output_type": "execute_result",
          "data": {
            "text/plain": [
              "<matplotlib.legend.Legend at 0x7fe0e720ced0>"
            ]
          },
          "metadata": {},
          "execution_count": 8
        },
        {
          "output_type": "display_data",
          "data": {
            "image/png": "[encoded data removed]",
            "text/plain": [
              "<Figure size 432x288 with 1 Axes>"
            ]
          },
          "metadata": {
            "needs_background": "light"
          }
        }
      ]
    },
    {
      "cell_type": "code",
      "metadata": {
        "id": "77mUerLjH1Na"
      },
      "source": [
        ""
      ],
      "execution_count": null,
      "outputs": []
    },
    {
      "cell_type": "code",
      "metadata": {
        "id": "CByHDakoH1S4"
      },
      "source": [
        ""
      ],
      "execution_count": null,
      "outputs": []
    },
    {
      "cell_type": "code",
      "metadata": {
        "id": "mbLzoFR_H1Vs"
      },
      "source": [
        ""
      ],
      "execution_count": null,
      "outputs": []
    },
    {
      "cell_type": "code",
      "metadata": {
        "id": "C4KNZobqH1XJ"
      },
      "source": [
        ""
      ],
      "execution_count": null,
      "outputs": []
    },
    {
      "cell_type": "code",
      "metadata": {
        "id": "iPLZhkPRH1Ys"
      },
      "source": [
        ""
      ],
      "execution_count": null,
      "outputs": []
    },
    {
      "cell_type": "code",
      "metadata": {
        "id": "zvJslbx4H1ak"
      },
      "source": [
        ""
      ],
      "execution_count": null,
      "outputs": []
    },
    {
      "cell_type": "code",
      "metadata": {
        "id": "lDAIAxrsH1cl"
      },
      "source": [
        ""
      ],
      "execution_count": null,
      "outputs": []
    }
  ]
}