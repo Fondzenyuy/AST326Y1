{
  "nbformat": 4,
  "nbformat_minor": 0,
  "metadata": {
    "kernelspec": {
      "display_name": "Python 3 (ipykernel)",
      "language": "python",
      "name": "python3"
    },
    "language_info": {
      "codemirror_mode": {
        "name": "ipython",
        "version": 3
      },
      "file_extension": ".py",
      "mimetype": "text/x-python",
      "name": "python",
      "nbconvert_exporter": "python",
      "pygments_lexer": "ipython3",
      "version": "3.8.10"
    },
    "colab": {
      "name": "ast325_tutorial_2_solutions (1).ipynb",
      "provenance": [],
      "include_colab_link": true
    }
  },
  "cells": [
    {
      "cell_type": "markdown",
      "metadata": {
        "id": "view-in-github",
        "colab_type": "text"
      },
      "source": [
        "<a href=\"https://colab.research.google.com/github/Fondzenyuy/AST326Y1/blob/main/ast325_tutorial_2_solutions_.ipynb\" target=\"_parent\"><img src=\"https://colab.research.google.com/assets/colab-badge.svg\" alt=\"Open In Colab\"/></a>"
      ]
    },
    {
      "cell_type": "markdown",
      "metadata": {
        "tags": [],
        "id": "vYWfRAUzGFpP"
      },
      "source": [
        "# AST 325 Tutorial #2 - All things Poisson!"
      ]
    },
    {
      "cell_type": "markdown",
      "metadata": {
        "tags": [],
        "id": "f6HKJS9BGFpX"
      },
      "source": [
        "## 0. Setup\n",
        "\n",
        "Just so we are all on the same page, let's import Numpy and Matplotlib (and setup Jupyter to show plots inline)."
      ]
    },
    {
      "cell_type": "code",
      "metadata": {
        "id": "AA3uXzpOGFpY"
      },
      "source": [
        "%matplotlib inline\n",
        "\n",
        "import numpy as np\n",
        "import matplotlib.pyplot as plt"
      ],
      "execution_count": 1,
      "outputs": []
    },
    {
      "cell_type": "markdown",
      "metadata": {
        "id": "KDdbKOX3GFpa"
      },
      "source": [
        "## 1. Warm-up exercise: Poisson or Not?\n",
        "\n",
        "This warm-up exercise is about the [Poisson distribution](https://en.wikipedia.org/wiki/Poisson_distribution). Can you tell when some data is Poissonian or not?\n",
        "\n",
        "You are given 3 datasets of 2500 numbers each."
      ]
    },
    {
      "cell_type": "code",
      "metadata": {
        "id": "YIjq02o3GFpb"
      },
      "source": [
        "import urllib.request\n",
        "\n",
        "file = urllib.request.urlopen(\"https://www.astro.utoronto.ca/~mahajan/ast325/warm-up.txt\")\n",
        "data1, data2, data3 = np.loadtxt(file, dtype=int)"
      ],
      "execution_count": 3,
      "outputs": []
    },
    {
      "cell_type": "markdown",
      "metadata": {
        "id": "0PmMEz68GFpc"
      },
      "source": [
        "**Analyze them to figure out which ones were sampled from a Poisson distribution, and which ones were not.**"
      ]
    },
    {
      "cell_type": "markdown",
      "metadata": {
        "tags": [],
        "id": "tIF_2tMnGFpd"
      },
      "source": [
        "### Solution"
      ]
    },
    {
      "cell_type": "markdown",
      "metadata": {
        "id": "eC2yigEjGFpe"
      },
      "source": [
        "Remember, for a Poisson distribution the mean is equal to the variance, and for large means it should look a lot like the normal distribution.  \n",
        "Let's print the means and variances of the datasets and plot their histograms!"
      ]
    },
    {
      "cell_type": "code",
      "metadata": {
        "tags": [],
        "colab": {
          "base_uri": "https://localhost:8080/"
        },
        "id": "oaeR02CuGFpf",
        "outputId": "d7d83fb5-e894-460f-e6f4-99326d3f2c77"
      },
      "source": [
        "for i, data in enumerate([data1, data2, data3], 1):\n",
        "    print(f\"Dataset {i}: Mean = {data.mean():7.2f}, Variance = {data.var():7.2f}\")"
      ],
      "execution_count": 4,
      "outputs": [
        {
          "output_type": "stream",
          "name": "stdout",
          "text": [
            "Dataset 1: Mean =  999.38, Variance =  951.89\n",
            "Dataset 2: Mean = 1000.85, Variance =  952.42\n",
            "Dataset 3: Mean =  999.82, Variance =  473.67\n"
          ]
        }
      ]
    },
    {
      "cell_type": "code",
      "metadata": {
        "tags": [],
        "colab": {
          "base_uri": "https://localhost:8080/",
          "height": 585
        },
        "id": "gtOlTT0eGFpi",
        "outputId": "e579036e-f7c4-4033-eff1-cbce2baf74a5"
      },
      "source": [
        "fig, axes = plt.subplots(3, 1, sharex=True, figsize=(8, 8), tight_layout=True)\n",
        "\n",
        "hist_kw = dict(bins=100, range=(800, 1200))\n",
        "for i, data in enumerate([data1, data2, data3]):\n",
        "    axes[i].hist(data, label=f\"Dataset {i+1}\", **hist_kw)\n",
        "    axes[i].legend()\n",
        "axes[-1].set_xlim(850, 1150)\n",
        "plt.show()"
      ],
      "execution_count": 5,
      "outputs": [
        {
          "output_type": "display_data",
          "data": {
            "image/png": "[encoded data removed]",
            "text/plain": [
              "<Figure size 576x576 with 3 Axes>"
            ]
          },
          "metadata": {
            "needs_background": "light"
          }
        }
      ]
    },
    {
      "cell_type": "markdown",
      "metadata": {
        "tags": [],
        "id": "HhwvR6aMGFpk"
      },
      "source": [
        "Dataset 1: Clearly not Poisson (from the shape of the histogram, it's a uniform distribution).  \n",
        "Dataset 2: Has the expected bell curve shape and mean is similar to variance. This is Poisson.  \n",
        "Dataset 3 Also, not poisson because the variance is not the same as the mean!"
      ]
    },
    {
      "cell_type": "markdown",
      "metadata": {
        "tags": [],
        "id": "bIV_EdeQGFpl"
      },
      "source": [
        "## 2. Alice and Bob find a laser"
      ]
    },
    {
      "cell_type": "markdown",
      "metadata": {
        "id": "33SQHCvDGFpl"
      },
      "source": [
        "Alice and Bob find a laser on their adventures. Unfortunately, the part of the label that specifies the wavelength of the laser has rubbed off. Alice and Bob want to figure out the wavelength of the laser so they can write it back onto the label - because safety comes first, you know?\n",
        "\n",
        "Coincidentally, Alice has a device that she can use to measure the irradiance of the laser (say, a bolometer). She uses this bolometer to measure the total energy emitted by the laser over a short fixed time interval and she repeats this measurement a thousand times (under identical conditions).\n",
        "\n",
        "Unfortunately, they skipped their statistics lecture to go on this adventure - so they need your help! You are given a dataset containing 1000 numbers: measurements of total photon energy from the laser in units of *electronvolts (eV)*.\n",
        "\n",
        "**Given, these measurements, can you help them figure out what the wavelength of the laser is?**"
      ]
    },
    {
      "cell_type": "code",
      "metadata": {
        "id": "CrFSYadaGFpm"
      },
      "source": [
        "import astropy.units as u\n",
        "import astropy.constants\n",
        "\n",
        "file = urllib.request.urlopen(\"https://www.astro.utoronto.ca/~mahajan/ast325/alice_and_bob_laser.txt\")\n",
        "data = np.loadtxt(file, dtype=float)\n",
        "\n",
        "# You'll need these constants\n",
        "h = astropy.constants.h  # Planck's Constant\n",
        "c = astropy.constants.c  # Speed of Light"
      ],
      "execution_count": 6,
      "outputs": []
    },
    {
      "cell_type": "markdown",
      "metadata": {
        "tags": [],
        "id": "DCs9o4APGFpn"
      },
      "source": [
        "Bob has some helpful tips for you:\n",
        "1. The laser is a monochromatic source - all photons have the same frequency.\n",
        "2. The laser has constant brightness.\n",
        "3. The energy of a single photon is $E = \\frac{hc}{\\lambda}$."
      ]
    },
    {
      "cell_type": "markdown",
      "metadata": {
        "tags": [],
        "id": "hR2Du8hqGFpn"
      },
      "source": [
        "### Solution"
      ]
    },
    {
      "cell_type": "markdown",
      "metadata": {
        "tags": [],
        "id": "-rtreaL3GFpo"
      },
      "source": [
        "Remember that we are really just counting photons here - so poisson statistics apply. So, if we detect $N$ photons on average, the standard deviation on the number of photons should be $\\sqrt{N}$. Let's write this in terms of total energy measured by Alice:\n",
        "\n",
        "$$ \\langle E \\rangle = \\frac{N h c}{\\lambda} $$\n",
        "\n",
        "$$ \\sigma_E = \\frac{\\sqrt{N} h c}{\\lambda} $$\n",
        "\n",
        "So, we can estimate the wavelength with\n",
        "\n",
        "$$ \\lambda = \\frac{h c \\langle E \\rangle}{{\\sigma_E}^2} $$"
      ]
    },
    {
      "cell_type": "code",
      "metadata": {
        "tags": [],
        "colab": {
          "base_uri": "https://localhost:8080/"
        },
        "id": "hNDO3VJLGFpp",
        "outputId": "eb30e6fc-aa5a-43ad-9579-cee4100507de"
      },
      "source": [
        "# First apply the units\n",
        "data = data * u.eV\n",
        "\n",
        "mean_energy = data.mean()\n",
        "std_dev_energy = data.std()\n",
        "\n",
        "print(f\"Mean Total Energy: {mean_energy}\")\n",
        "print(f\"Standard Deviation: {std_dev_energy}\")"
      ],
      "execution_count": 7,
      "outputs": [
        {
          "output_type": "stream",
          "name": "stdout",
          "text": [
            "Mean Total Energy: 77.91614999999999 eV\n",
            "Standard Deviation: 2.978092153963675 eV\n"
          ]
        }
      ]
    },
    {
      "cell_type": "code",
      "metadata": {
        "tags": [],
        "colab": {
          "base_uri": "https://localhost:8080/"
        },
        "id": "c7ILpoYDGFpp",
        "outputId": "9641efe6-7cda-4f53-ee56-2b841c1fef61"
      },
      "source": [
        "wavelength = h * c * mean_energy / std_dev_energy**2\n",
        "\n",
        "# Convert to micrometers\n",
        "wavelength = wavelength.to(u.um)\n",
        "\n",
        "print(f\"Wavelength: {wavelength}\")"
      ],
      "execution_count": 8,
      "outputs": [
        {
          "output_type": "stream",
          "name": "stdout",
          "text": [
            "Wavelength: 10.89224894775005 um\n"
          ]
        }
      ]
    },
    {
      "cell_type": "markdown",
      "metadata": {
        "tags": [],
        "id": "Dv5bdS_zGFpq"
      },
      "source": [
        "#### Optional: Uncertainty on wavelength"
      ]
    },
    {
      "cell_type": "markdown",
      "metadata": {
        "id": "1f4ocvc5GFpr"
      },
      "source": [
        "Propagation of uncertainty is hard and unless you know exactly what you are doing, you can easily under-estimate or over-estimate your errors. This is because the simple rules for \"propagation of uncertainty\" that you probably learned in class only work in very specific, wonderfully beautiful, almost perfect conditions. The only time you have these conditions are in ... well, problem sets!\n",
        "\n",
        "For example, if I give you a sample of $20$ values (say, heights of students) and asked you to compute the \"median\" height - you probably can. But can you find the \"error\" on that median? The median is a non-linear, non-differentiable function.\n",
        "\n",
        "But do you know how to find the uncertainty over the \"median\" of a dataset? (Do you even know how to take the derivative of the median function relative to your individual samples? Don't bother, you'll go crazy)\n",
        "\n",
        "Thankfully, there's an excellent and simple technique to determine the errors on pretty much anything: [Bootstrapping](https://en.wikipedia.org/wiki/Bootstrapping_(statistics))\n",
        "\n",
        "---\n",
        "\n",
        "**Situation:** You have a dataset of $N$ samples. You can estimate some quantity as a function of the dataset you are given (for example, the median). But you want to know the error or confidence interval on this quantity.\n",
        "\n",
        "Use bootstrapping!\n",
        "\n",
        "1. Put all your data in a bag and randomly pick $N$ samples *with replacement*.\n",
        "\n",
        "2. Compute your quantity.\n",
        "\n",
        "3. Do this a bunch of times! You now have a \"distribution\" on this quantity. Do all the statistics you want to do now.\n",
        "\n",
        "Let's do this with the wavelength."
      ]
    },
    {
      "cell_type": "code",
      "metadata": {
        "tags": [],
        "colab": {
          "base_uri": "https://localhost:8080/",
          "height": 39
        },
        "id": "GXXsNR-_GFpr",
        "outputId": "84b1544c-fdc8-43ec-ae27-91d7e35ec2b2"
      },
      "source": [
        "def wavelength(data):\n",
        "    return (h * c * data.mean(-1) / data.var(-1)).to(u.um)\n",
        "\n",
        "num_bootstrap = 1000\n",
        "bootstrapped_data = np.random.choice(data.to_value(u.eV), (num_bootstrap, len(data))) * u.eV\n",
        "bootstrapped_wavelength = wavelength(bootstrapped_data)\n",
        "bootstrapped_wavelength"
      ],
      "execution_count": 9,
      "outputs": [
        {
          "output_type": "execute_result",
          "data": {
            "text/latex": "$[11.119356,~10.639372,~10.952671,~\\dots,~11.167612,~11.452105,~11.5495] \\; \\mathrm{\\mu m}$",
            "text/plain": [
              "<Quantity [11.11935555, 10.63937206, 10.95267139, 10.82878278, 10.07818456,\n",
              "           11.08009503, 10.28485568, 11.21096725, 10.88930265, 10.99837222,\n",
              "           11.15884314, 11.40594882, 10.63482162, 10.77760726, 11.03967819,\n",
              "           12.06722429, 10.84136547, 10.58004562, 10.50345058, 10.84904104,\n",
              "           10.84479523, 10.47230506, 10.85277585, 10.59208127, 10.5270439 ,\n",
              "           10.47512519, 10.22916647, 11.63730729, 10.40885941, 11.05996602,\n",
              "           12.15199104, 10.52692303, 10.94242816, 11.25298533, 10.87602608,\n",
              "            9.98286217, 11.13514132, 11.62545452, 10.83752569, 10.81115456,\n",
              "           11.24684305, 10.59404398, 11.5092438 , 11.40861343, 11.79679543,\n",
              "           11.2617491 , 10.71979605, 10.38323529, 10.17284237, 10.78429657,\n",
              "           12.16150859, 10.66697125, 10.59543932, 10.42210518, 11.03563136,\n",
              "           11.12176256, 11.05409119, 10.69697698, 10.56480413, 10.72178662,\n",
              "           11.04138073, 10.91362211, 10.37987289, 11.25276249, 10.62312724,\n",
              "           11.73818944, 11.92604246, 11.4644675 , 10.58036569, 11.14901934,\n",
              "           11.48607009, 10.9220858 , 10.36999911, 10.18657633, 11.37433964,\n",
              "           10.9193961 , 10.46253256, 10.7163216 , 10.72022508, 10.28181169,\n",
              "           11.24229484, 11.35268726, 10.82281993, 10.93566217, 11.13612902,\n",
              "           11.30825747, 10.8960825 , 10.20595423, 11.57565393, 10.23968957,\n",
              "           10.58443948, 11.27078421, 11.21835419, 11.15541536, 10.88471086,\n",
              "           11.86413531, 11.15156892, 10.59476331, 11.54894557, 11.49781717,\n",
              "           10.29715882, 10.16859355, 10.37525024, 10.46994225, 11.30869428,\n",
              "           10.47978666, 11.07473067, 10.74798559, 11.40934259, 11.28057256,\n",
              "           10.47691681, 11.26851799, 10.49992284, 10.31436964, 10.74011781,\n",
              "           11.31748931, 11.68313347, 10.51106936, 10.99218662, 12.01188842,\n",
              "           11.62094999, 11.07913445, 10.62042241, 11.14649062, 10.89575064,\n",
              "           10.83898939, 11.38693798, 10.31979715, 11.12137463, 10.83116161,\n",
              "           10.74930148, 10.6081764 , 11.14868918, 11.13050052, 11.323882  ,\n",
              "           10.32957114, 11.04763202, 10.93765454, 11.58905969, 11.55195932,\n",
              "           10.83282243,  9.74652499, 10.6431761 , 10.8428801 , 11.01835811,\n",
              "           10.95395759, 11.16204271, 11.65558447, 11.29971405, 11.10748135,\n",
              "           11.63421728, 10.39954922, 11.3423062 , 10.40975575, 11.30091479,\n",
              "           10.42491819, 11.4343159 , 11.75204718, 10.86042375, 10.21981097,\n",
              "           11.15498912, 10.75528252, 11.30215401, 11.26660008, 11.34354283,\n",
              "           10.18807424, 11.88090082, 11.23193345, 11.41773646, 10.85212999,\n",
              "           11.14366246, 10.90796168, 10.74949467, 11.0076125 , 11.12736683,\n",
              "           10.51794686, 11.09916388, 10.52113357, 11.02329689, 11.55381213,\n",
              "           11.33415255, 10.73751391, 10.61196555, 10.89469571, 11.03530383,\n",
              "           10.75771077, 10.1293784 , 10.81113779, 11.51965863, 10.91197023,\n",
              "           10.97937454, 10.7258874 , 10.95373211, 10.55843359, 10.30680158,\n",
              "           10.4807902 , 11.50430054, 10.80875388, 11.28617914, 11.58141327,\n",
              "           11.1437866 , 11.05862239, 10.82563173, 10.55714596, 10.5310952 ,\n",
              "           11.4730531 , 10.82629663, 10.97210798, 11.91014958, 10.71538363,\n",
              "           10.99954613, 10.57857721, 11.81870704, 11.57032306, 11.33746888,\n",
              "           11.34073893, 11.80860907, 10.61632887,  9.5676924 , 11.87274499,\n",
              "           11.25428207, 10.46751523, 11.16355547, 10.99437942, 11.3500638 ,\n",
              "           10.50851591, 10.44067728, 11.03887879, 10.66327849, 10.64279592,\n",
              "           11.85246349, 10.53222595, 11.25317662, 11.41909571, 10.60872693,\n",
              "           10.40862292, 11.352994  , 10.96742184, 11.16766366, 11.08152612,\n",
              "           10.53933512, 10.34181182, 10.98999287, 11.37074927, 11.1861103 ,\n",
              "           11.20378482, 11.14252266, 11.35563786, 10.6169748 , 10.17236583,\n",
              "           10.3083804 , 11.1626669 , 10.8185363 , 10.54288174, 10.87631995,\n",
              "           11.68944642, 10.40813149, 10.83803843, 11.15100293, 12.07102369,\n",
              "           10.60348166, 10.95361062, 10.86049722, 11.2287841 , 10.44241723,\n",
              "           10.67145031, 10.12732586, 11.23408699, 10.92621501, 10.2717799 ,\n",
              "           11.04355649, 11.47458818, 10.09799733, 10.86237917, 10.60040566,\n",
              "           11.12364509, 10.57180773, 10.15258308, 10.60634158, 11.07063032,\n",
              "           11.07786901, 10.83657002, 10.92382689, 10.46497165, 10.01640158,\n",
              "           11.0565237 , 10.3975626 , 10.31164992, 10.77806901, 10.75786347,\n",
              "           11.64877778, 11.07474878, 10.42297406, 11.33356678, 10.15902346,\n",
              "           11.6525126 , 11.08395443, 11.06797349, 11.19608502, 10.87956032,\n",
              "           11.56103953, 10.64609901, 10.88834334, 11.39275387, 10.55416647,\n",
              "           11.8476136 , 11.0137866 , 11.17237872, 10.79357525, 10.96659694,\n",
              "           11.44865041, 11.00224466, 10.56118585, 11.77908641, 10.97584981,\n",
              "           11.98376306, 10.47464143, 10.59207173, 11.96856113, 11.54124505,\n",
              "           10.6002527 , 11.11557838, 10.15122569, 10.60628263, 10.7848195 ,\n",
              "           10.66498372, 10.96383645, 10.29554422, 11.47199326, 10.19988905,\n",
              "           10.88032139, 10.62000361, 10.51327236, 11.27319617, 11.91433954,\n",
              "           10.95221359, 10.39436808, 10.56323859, 10.93485983, 11.67169328,\n",
              "           11.33148414, 11.26225209, 11.25168146, 10.61236853, 11.25334011,\n",
              "           10.98307078, 11.95784583, 11.16986384, 12.15414339, 10.21653768,\n",
              "           11.32102586, 11.1116433 , 10.72950016, 10.58394491, 10.57549984,\n",
              "           10.61835256, 10.32390432, 11.32452799, 11.69558291, 10.75069762,\n",
              "           10.19522129, 10.90404635, 10.95980145, 10.45103896, 10.46593602,\n",
              "           10.95736419, 10.22292407, 10.17179059, 10.72793259, 10.63882123,\n",
              "           11.40164238, 11.52090308, 10.7895857 , 10.96266838, 11.10404366,\n",
              "           11.21579038, 10.17171193, 10.25805779,  9.83656532, 10.66226756,\n",
              "           10.4465498 , 10.75469723,  9.62235334, 11.25395018, 10.55049359,\n",
              "           11.21495744, 11.02978266, 10.45553253, 11.57188725, 11.16598409,\n",
              "           10.5918053 ,  9.9236238 , 11.26123079, 10.8944687 , 10.64697216,\n",
              "           11.02421802, 10.88888914, 10.84684374, 10.29435687, 10.96192011,\n",
              "           10.25592023, 10.6885263 , 10.53676239, 11.51697864, 10.82891148,\n",
              "           10.64945805, 11.26397561, 11.65712162, 11.06742524, 10.70148429,\n",
              "           10.3403971 , 10.79740512, 10.87704824, 10.70081125, 10.685244  ,\n",
              "           10.60767101, 11.32250653, 11.31396907, 10.81971047, 11.16474898,\n",
              "           11.41292523, 11.03847008, 11.51463296, 10.89694138, 11.22480626,\n",
              "           11.0867114 , 10.94682217, 10.24738096, 10.87373187, 11.17583276,\n",
              "           11.05707966, 12.05230925, 10.86201575, 12.03840517, 11.36517142,\n",
              "           12.04552988, 11.37236114, 11.10410755, 11.49065128, 11.4339391 ,\n",
              "           11.331604  , 10.87458564, 10.3577758 , 10.74809978, 10.05705319,\n",
              "           10.66981267, 10.26774453, 10.55328477, 10.50203172, 10.59873507,\n",
              "           11.10892637, 11.24234961, 11.08903029, 10.74473163, 10.55677477,\n",
              "           11.45040508, 10.49727966, 10.08939391, 10.7897099 , 10.54192158,\n",
              "           11.13694519, 10.82090823, 10.83865571, 10.24249725, 10.60594045,\n",
              "           10.77975659, 11.02679414, 11.41954785, 11.02459025, 11.06075976,\n",
              "           10.26687175, 10.43017034, 10.656352  , 11.27658452,  9.83383523,\n",
              "           11.63715236, 10.64525119, 11.17942161, 10.45125765, 10.8116167 ,\n",
              "           11.10932895, 10.17787067, 10.92611251, 10.72452077, 10.01873575,\n",
              "           10.44943712, 10.3349881 , 11.9178816 , 11.01373043, 10.9915544 ,\n",
              "           11.27719157, 11.00272379, 10.86261181, 11.28369838, 11.81674173,\n",
              "           10.85514244, 11.12231619, 11.70629095, 11.02652626, 11.589894  ,\n",
              "           11.19407394, 11.19292044, 10.3970065 , 11.21133751, 11.36384602,\n",
              "           10.86611773, 10.94405074, 10.89978204, 10.15947232, 10.89934423,\n",
              "           12.3066797 , 10.76953295, 11.16639521, 10.67316539, 10.61632399,\n",
              "           10.59474559, 10.7532527 , 10.69904363, 11.5344286 , 10.87520018,\n",
              "           11.29524788, 10.8142127 , 10.78637708, 11.08346108, 10.96328031,\n",
              "           11.2185331 , 10.93424698, 10.95095932, 10.91770668, 10.92901977,\n",
              "           10.6988248 , 10.31226836, 11.30231862, 10.67311585, 10.88382207,\n",
              "           11.1177008 , 11.34425869, 11.37522905, 11.0506828 , 11.42458925,\n",
              "           10.54051341, 10.7019151 , 10.68402274, 10.79775682, 11.01372256,\n",
              "            9.98725672, 11.14694798, 10.76717126, 10.7319724 , 11.62024588,\n",
              "           11.10161272, 10.63025245, 10.50910401, 11.04756137, 10.95596527,\n",
              "           12.21673388, 10.42919046, 11.49358083, 10.43764979, 10.262873  ,\n",
              "           11.00838818, 10.47715723, 10.80539264, 10.51439436, 10.45805182,\n",
              "           11.33965861, 10.42773555, 10.46356856, 11.73525092, 11.34939309,\n",
              "           10.50419664, 11.44153965, 10.75576041,  9.90221117, 10.97474281,\n",
              "           10.91878299, 10.74532494, 10.12268743, 11.56540258, 11.20368836,\n",
              "           12.08773542, 10.16174042, 11.87383732, 10.50975872, 10.78338455,\n",
              "            9.9018387 , 11.97951775, 11.01806725, 10.80974685, 10.9153679 ,\n",
              "           10.93754429, 11.28316553, 11.3424025 , 10.88473474, 11.1444806 ,\n",
              "           10.4781264 , 10.69697098, 10.75324351, 10.63733084, 10.66435504,\n",
              "           10.68788479, 11.54380943, 10.99282244, 10.31905471,  9.93933632,\n",
              "           11.30581749, 11.68683734, 10.7778539 , 10.82707389, 11.96475169,\n",
              "           10.82304445, 10.59744312, 10.96808528, 11.19768563, 10.69929918,\n",
              "           10.23140433, 11.50546941, 11.24358816, 10.91700602, 10.50345283,\n",
              "           11.37117854, 10.11812188, 11.05278039, 11.1955646 , 10.87184389,\n",
              "           11.44257722, 11.08351178, 11.5217957 , 11.58903744, 11.45737384,\n",
              "           11.06710796, 11.24783896, 11.45365767, 10.71096893, 11.62463318,\n",
              "           11.12631587, 11.21566796, 10.73548   , 10.54169729, 11.08890248,\n",
              "           11.00571412, 10.94714034, 11.64321947, 11.07756541, 10.77941142,\n",
              "           11.20685622, 10.61690007, 11.28466535, 10.9644291 , 11.27119054,\n",
              "           10.87876081, 10.32958431, 10.43403745, 11.13095918, 10.84314252,\n",
              "           11.65911775, 10.89262076, 11.26623863, 10.82438663, 10.60025532,\n",
              "           10.96979907, 11.55402823, 10.85928422, 10.26452011, 10.24145939,\n",
              "           10.56927582, 11.51926701,  9.65488111, 10.98950124, 10.91903077,\n",
              "           10.1224274 ,  9.88697688, 11.28038232, 10.99537569, 10.89951741,\n",
              "           11.71716364, 11.00664773, 10.69911993, 10.24841292, 10.75874172,\n",
              "           11.22025622, 11.51641849, 10.36887635, 10.34914311, 11.0686739 ,\n",
              "           10.72366211, 12.3784104 , 11.77926974, 10.30237266, 10.88309233,\n",
              "           10.5015238 , 10.44887638, 10.76099013, 11.10160625, 10.67851323,\n",
              "           10.46250126, 10.60482167, 10.62442063, 10.80767193, 11.67277253,\n",
              "           10.89796749, 10.19403898, 11.16187259, 11.50491784, 10.8002632 ,\n",
              "           10.74121154, 11.71203154, 11.14403546, 10.41812336, 10.77241606,\n",
              "           11.17381738, 10.61886401, 10.91850903, 11.01489236, 11.708182  ,\n",
              "           10.39110959,  9.95164852, 10.79635154, 10.82347299, 10.54405508,\n",
              "           11.20652083, 10.70078828, 11.67368023, 10.49080665, 10.84826492,\n",
              "           10.5145203 , 10.69830496, 10.89951462, 11.35741573, 10.64823435,\n",
              "           11.2259667 , 10.10008385, 10.85251978, 10.75022532, 11.62024279,\n",
              "           11.61591128, 10.95266813, 10.83413398, 10.91904629, 10.82467444,\n",
              "           10.53196482, 10.73216216, 11.05677658, 10.98649095, 11.46484305,\n",
              "           11.12939288, 11.4176963 , 11.2811981 ,  9.82434377, 11.1195835 ,\n",
              "           10.17955424, 11.01968951, 11.08062444, 10.33794901, 11.80537276,\n",
              "           12.2382968 , 12.09533928, 10.94437036, 10.96290657, 11.32633412,\n",
              "           10.20087935, 10.11313537, 10.62157602, 11.01785208, 10.7280083 ,\n",
              "           10.8700329 , 11.29012016, 10.28319612, 11.14736166, 10.99510911,\n",
              "           11.16679728, 10.77173575, 10.74726774, 10.59808108, 11.06188422,\n",
              "           11.13115152, 10.70179641, 11.11704365, 10.97048452, 10.82175493,\n",
              "           10.28615696, 11.28953889, 10.80658619, 10.27166142, 11.27814108,\n",
              "           11.12902988, 11.1055685 , 10.8354914 , 11.89509876, 10.2507742 ,\n",
              "           11.66132524, 10.78941859, 11.37032414,  9.96549182, 10.26744142,\n",
              "           11.02613668, 10.53850327, 10.76185279, 10.7022517 , 11.83882836,\n",
              "           11.19406913, 11.00246102, 10.39342733, 11.66134814, 10.86566498,\n",
              "           11.54814245, 11.76851503, 11.10156011, 10.97774434, 11.38394214,\n",
              "           10.81412164, 10.88524463, 11.23258912, 11.64967897, 11.1904933 ,\n",
              "           10.89206999,  9.90769042, 10.26807407, 11.3451466 , 11.37113678,\n",
              "           10.69820807, 11.96381264, 10.96492815, 11.12735456, 10.22530753,\n",
              "           11.13878155, 11.01499184, 11.9901369 , 10.67949135, 11.59108735,\n",
              "           11.25257394, 10.54884325, 10.40637307, 10.76940286, 10.9667586 ,\n",
              "           11.63583845, 11.31369477, 10.21462384, 11.95816337, 10.22992885,\n",
              "            9.99675167, 10.62221481, 11.14082043, 11.03931369, 10.98269695,\n",
              "           11.05306599, 10.78436919, 10.52767588, 10.53931447, 10.90104783,\n",
              "           10.24997747, 11.14320232, 10.29375508, 10.42614369, 11.70608968,\n",
              "           11.20738272, 10.83060186, 10.96786625,  9.75607532, 10.40395484,\n",
              "           10.69241363, 11.44935866, 10.37112195, 10.94456034, 10.24462765,\n",
              "           10.80926381, 11.68774488, 11.51303127, 11.21380293, 10.59984651,\n",
              "           11.38619469, 11.25936422, 11.7779896 , 10.77704702, 11.53948066,\n",
              "           10.60390495, 10.5635303 , 11.54712011,  9.95558667, 10.11971589,\n",
              "           12.28749575, 11.03795207, 10.9049214 , 10.48854837, 11.07862719,\n",
              "           11.09165009, 11.05431193, 10.84577492, 10.50797254, 10.9210309 ,\n",
              "           10.7433447 , 10.94837828, 10.85195569, 11.36996124, 10.25193237,\n",
              "           10.05070728, 10.84959693, 10.98845615, 10.74817962, 10.54246349,\n",
              "           10.91287807, 10.70686263, 11.10236256, 11.43263059, 11.01944528,\n",
              "           10.7021078 , 10.3822381 , 10.60519898, 11.09265331, 10.78099521,\n",
              "           10.49975586, 10.97833836, 11.03633539, 10.69616036, 10.60517999,\n",
              "           11.17672643, 10.51545026, 11.97968692, 10.56680739, 10.823248  ,\n",
              "           11.0284635 , 11.30654532, 11.18996378, 10.85850956, 11.62431654,\n",
              "           11.09373701, 11.21022666, 10.50443757, 10.67267564, 10.72976848,\n",
              "           12.05286873, 10.73094886, 10.31566406, 10.6367563 , 10.74447852,\n",
              "           10.21166865, 11.60507651, 11.19095115, 10.57592295, 11.63387327,\n",
              "           10.68232737, 11.84701179, 11.87767647, 11.17676264, 11.42265115,\n",
              "           10.83377931, 10.31648255, 11.79811227, 11.62390666, 10.16026892,\n",
              "           11.71616808, 11.02659917, 10.81416296, 10.49560769, 11.14638049,\n",
              "           11.48992986, 10.08338116, 11.27946761,  9.95464398, 11.39757167,\n",
              "           10.85126358, 11.2031882 , 11.62387129, 11.26177064, 11.40333006,\n",
              "           10.8704796 , 11.50613446, 11.12927421, 10.68882006,  9.58539492,\n",
              "           11.25160114, 11.2584663 , 11.23005602, 10.8979314 , 10.04039044,\n",
              "           10.59521863,  9.7573772 , 10.61145772, 10.39584009, 10.37083506,\n",
              "           10.8805616 , 11.53942943, 10.44572751, 11.16038525, 10.79466011,\n",
              "           11.21792387, 10.39893615, 10.2859765 , 10.7253707 ,  9.80842857,\n",
              "           10.80070502, 11.1603137 , 11.49437484, 10.7707738 , 10.20296892,\n",
              "           11.20258746, 11.73884258, 11.1676124 , 11.45210474, 11.54949952] um>"
            ]
          },
          "metadata": {},
          "execution_count": 9
        }
      ]
    },
    {
      "cell_type": "code",
      "metadata": {
        "tags": [],
        "colab": {
          "base_uri": "https://localhost:8080/"
        },
        "id": "bra6QzlNGFpr",
        "outputId": "256e4d5d-e0d9-4183-8bbd-3a83e647b473"
      },
      "source": [
        "m = bootstrapped_wavelength.mean()\n",
        "err = bootstrapped_wavelength.std()\n",
        "\n",
        "print(f\"Estimated Wavelength: {m:.1f} +/- {err:.1f}\")"
      ],
      "execution_count": 10,
      "outputs": [
        {
          "output_type": "stream",
          "name": "stdout",
          "text": [
            "Estimated Wavelength: 10.9 um +/- 0.5 um\n"
          ]
        }
      ]
    },
    {
      "cell_type": "markdown",
      "metadata": {
        "tags": [],
        "id": "nYH1wK3pGFps"
      },
      "source": [
        "## 3. Wind-down: Q & A"
      ]
    },
    {
      "cell_type": "markdown",
      "metadata": {
        "id": "wtueGVdSGFpt"
      },
      "source": [
        "At this point, we probably don't have much time left. **So, let's just have a general Q&A session to end the tutorial.**\n",
        "\n",
        "Those of you who like statistics might enjoy this bonus problem."
      ]
    },
    {
      "cell_type": "markdown",
      "metadata": {
        "id": "KDilaHeLGFpt"
      },
      "source": [
        "### Bonus Problem: [Poisson Clumping](https://en.wikipedia.org/wiki/Poisson_clumping)\n",
        "\n",
        "What does random sampling look like? Here are two datasets each containing 1000 points sampled on the unit square from $(0, 0)$ to $(1, 1)$."
      ]
    },
    {
      "cell_type": "code",
      "metadata": {
        "id": "yz6yFCCWGFpt"
      },
      "source": [
        "file = urllib.request.urlopen(\"https://www.astro.utoronto.ca/~mahajan/ast325/bonus_random.txt\")\n",
        "\n",
        "x1, y1, x2, y2 = np.loadtxt(file, unpack=True)"
      ],
      "execution_count": 11,
      "outputs": []
    },
    {
      "cell_type": "markdown",
      "metadata": {
        "id": "H1cdRownGFpt"
      },
      "source": [
        "`x1` and `y1` are the $(x, y)$ coordinates for points in the first dataset, and similarly for `x2` and `y2`.\n",
        "\n",
        "Let's plot them."
      ]
    },
    {
      "cell_type": "code",
      "metadata": {
        "tags": [],
        "colab": {
          "base_uri": "https://localhost:8080/",
          "height": 377
        },
        "id": "NRLWC0C_GFpu",
        "outputId": "859d1536-bf4b-4cc0-a1a5-9061f0e631da"
      },
      "source": [
        "fig, axes = plt.subplots(1, 2, figsize=(10, 5), tight_layout=True)\n",
        "\n",
        "for i, (ax, (x, y)) in enumerate(zip(axes, [(x1, y1), (x2, y2)]), 1):\n",
        "    ax.plot(x, y, 'k.')\n",
        "    ax.set_aspect(1.0)\n",
        "    ax.set_xlim(0, 1)\n",
        "    ax.set_ylim(0, 1)\n",
        "    ax.set_xlabel(\"x\")\n",
        "    ax.set_ylabel(\"y\")\n",
        "    ax.set_title(f\"Dataset {i}\")\n",
        "\n",
        "plt.show()"
      ],
      "execution_count": 12,
      "outputs": [
        {
          "output_type": "display_data",
          "data": {
            "image/png": "[encoded data removed]",
            "text/plain": [
              "<Figure size 720x360 with 2 Axes>"
            ]
          },
          "metadata": {
            "needs_background": "light"
          }
        }
      ]
    },
    {
      "cell_type": "markdown",
      "metadata": {
        "id": "j8BaS0s9GFpu"
      },
      "source": [
        "One of these datasets is uniformly sampled and the other is not. Can you tell which is which?  \n",
        "*Hint: Use your knowledge of Poisson statistics to analyze the data.*"
      ]
    },
    {
      "cell_type": "markdown",
      "metadata": {
        "tags": [],
        "id": "o5lIt19EGFpu"
      },
      "source": [
        "### Solution"
      ]
    },
    {
      "cell_type": "markdown",
      "metadata": {
        "id": "LY-yxfdhGFpv"
      },
      "source": [
        "We know there are 1000 points over an area of 1. If we assume uniform sampling, we can expect this density to hold as an average.\n",
        "One simple thing we can do is divide the area into 100 small squares (10 slices along each dimension) and count all the points in each small square - we expect an average of 10 points per square.\n",
        "\n",
        "The distribution of the number of points in the small squares should follow a poisson distribution with a mean of 10 if the sampling was truly uniform.\n",
        "\n",
        "I am just going to randomly pick points and count all the samples in a `0.1 x 0.1` area around it (you have to be careful not to go too close to the edge or your square will go outside the larger area). This way I can get way more than 100 measurements because I don't care if the small squares overlap."
      ]
    },
    {
      "cell_type": "code",
      "metadata": {
        "id": "LWko5kFvGFpv"
      },
      "source": [
        "def get_counts(x, y, num_squares, square_size):\n",
        "    counts = np.zeros(num_squares, dtype=int)\n",
        "    \n",
        "    s = square_size / 2\n",
        "    for i in range(num_squares):\n",
        "        x0, y0 = np.random.uniform(s, 1 - s, 2)  # Can't sample too close to the edge\n",
        "        points_in_square = (np.abs(x - x0) < s) & (np.abs(y - y0) < s)\n",
        "        counts[i] = np.sum(points_in_square)\n",
        "        \n",
        "    return counts"
      ],
      "execution_count": 13,
      "outputs": []
    },
    {
      "cell_type": "code",
      "metadata": {
        "id": "uhunOFPRGFpv"
      },
      "source": [
        "counts_1 = get_counts(x1, y1, num_squares=10000, square_size=0.1)\n",
        "counts_2 = get_counts(x2, y2, num_squares=10000, square_size=0.1)"
      ],
      "execution_count": 14,
      "outputs": []
    },
    {
      "cell_type": "code",
      "metadata": {
        "tags": [],
        "colab": {
          "base_uri": "https://localhost:8080/",
          "height": 441
        },
        "id": "eHA3aiK6GFpw",
        "outputId": "b010ba0b-4255-461f-e1c1-df1b78c04e64"
      },
      "source": [
        "import scipy.stats\n",
        "\n",
        "k = np.arange(30)\n",
        "poisson = scipy.stats.poisson.pmf(k, 10)\n",
        "\n",
        "plt.figure(figsize=(10, 6), tight_layout=True)\n",
        "\n",
        "hist_kw = dict(range=(-0.5, 29.5), bins=30, density=True, alpha=0.5, histtype='stepfilled', lw=2)\n",
        "plt.hist(counts_1, label='Dataset 1', edgecolor=\"C0\", **hist_kw)\n",
        "plt.hist(counts_2, label='Dataset 2', edgecolor=\"C1\", **hist_kw)\n",
        "plt.plot(k, poisson, 'k--', label=r'Poisson$(\\mu=10)$')\n",
        "plt.xlabel(\"Counts\")\n",
        "plt.xlim(-0.5, 29.5)\n",
        "plt.legend()\n",
        "plt.show()"
      ],
      "execution_count": 15,
      "outputs": [
        {
          "output_type": "display_data",
          "data": {
            "image/png": "[encoded data removed]",
            "text/plain": [
              "<Figure size 720x432 with 1 Axes>"
            ]
          },
          "metadata": {
            "needs_background": "light"
          }
        }
      ]
    },
    {
      "cell_type": "markdown",
      "metadata": {
        "id": "8tk6_Z01GFpw"
      },
      "source": [
        "Dataset 1 is uniformly sampled. Dataset 2 isn't. The randomness is why Dataset 1 exhibits [poisson clumping](https://en.wikipedia.org/wiki/Poisson_clumping). In Dataset 2, notice how all the samples never \"clump\" together - you couldn't have this property without some clever non-random placement."
      ]
    },
    {
      "cell_type": "code",
      "metadata": {
        "id": "7hD1EK32GsC1"
      },
      "source": [
        ""
      ],
      "execution_count": null,
      "outputs": []
    }
  ]
}